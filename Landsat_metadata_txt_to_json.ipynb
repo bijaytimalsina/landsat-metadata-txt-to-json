{
 "cells": [
  {
   "cell_type": "code",
   "execution_count": 1,
   "id": "3e0f86cb",
   "metadata": {},
   "outputs": [],
   "source": [
    "def GetLandsatMetadata(filename):\n",
    "    s = ReadFile(filename)\n",
    "    (items, junk) = Parse(s)\n",
    "    return items\n",
    "\n",
    "def ReadFile(filename):\n",
    "    f = open(filename, \"r\", encoding=\"utf-8\")\n",
    "    s = f.read()\n",
    "    f.close()\n",
    "    return s\n",
    "\n",
    "def ParseValue(str):\n",
    "    try:\n",
    "        try:\n",
    "            return int(str)\n",
    "        except ValueError:\n",
    "            return float(str)\n",
    "    except ValueError:\n",
    "        if str[0] == str[-1] == '\"':\n",
    "            str = str[1:-1]\n",
    "        return str\n",
    "\n",
    "def GetLine(s, newline='\\n'):\n",
    "    next = s.find(newline, 0, None)\n",
    "    line = s[0:next]\n",
    "    s = s[next+1:]\n",
    "    return (line, s)\n",
    "\n",
    "\n",
    "def Parse(contents, newline='\\n'):\n",
    "    result = {}\n",
    "    separator = ' = '\n",
    "    while len(contents) > 0:\n",
    "        (line, contents) = GetLine(contents)\n",
    "        line = line.strip()\n",
    "        if line == 'END':\n",
    "            return (result, contents)\n",
    "        if len(line) == 0:\n",
    "            continue\n",
    "        parts = line.split(separator)\n",
    "        if len(parts) < 2:\n",
    "            continue\n",
    "        if parts[0] == 'GROUP':\n",
    "            subgroup = parts[1]\n",
    "            (result[subgroup], contents) = Parse(contents, newline)\n",
    "        elif parts[0] == 'END_GROUP':\n",
    "            return (result, contents)\n",
    "        else:\n",
    "            name = parts[0]\n",
    "            value = line[len(name) + len(separator):].strip()\n",
    "            value = ParseValue(value)\n",
    "            result[name] = value\n",
    "    return (result, contents)"
   ]
  },
  {
   "cell_type": "code",
   "execution_count": 3,
   "id": "c76155d1",
   "metadata": {},
   "outputs": [],
   "source": [
    "import json\n",
    "\n",
    "metadata = GetLandsatMetadata(\"LC08_L2SP_149035_20200825_20200905_02_T1_MTL.txt\" )\n",
    "\n",
    "with open('LC08_L2SP_149035_20200825_20200905_02_T1_MTL.json', 'w') as json_file:\n",
    "    json.dump(metadata, json_file)\n",
    "\n"
   ]
  },
  {
   "cell_type": "code",
   "execution_count": null,
   "id": "4e2d2269",
   "metadata": {},
   "outputs": [],
   "source": []
  }
 ],
 "metadata": {
  "kernelspec": {
   "display_name": "Python 3 (ipykernel)",
   "language": "python",
   "name": "python3"
  },
  "language_info": {
   "codemirror_mode": {
    "name": "ipython",
    "version": 3
   },
   "file_extension": ".py",
   "mimetype": "text/x-python",
   "name": "python",
   "nbconvert_exporter": "python",
   "pygments_lexer": "ipython3",
   "version": "3.9.13"
  }
 },
 "nbformat": 4,
 "nbformat_minor": 5
}
